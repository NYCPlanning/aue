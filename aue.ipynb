{
 "cells": [
  {
   "cell_type": "code",
   "execution_count": 77,
   "metadata": {},
   "outputs": [],
   "source": [
    "import numpy as np"
   ]
  },
  {
   "cell_type": "code",
   "execution_count": 78,
   "metadata": {},
   "outputs": [],
   "source": [
    "p = np.array([[np.nan,0,1,1],[0,np.nan,0,1],[1,0,np.nan,1],[1,0,1,np.nan]])\n",
    "bbl_set = {1,2,3,4}"
   ]
  },
  {
   "cell_type": "code",
   "execution_count": 79,
   "metadata": {},
   "outputs": [],
   "source": [
    "def find_next(branch_set, p):\n",
    "    possible_children = np.repeat(1, p.shape[0])\n",
    "    for i in branch_set:\n",
    "        possible_children = np.multiply(possible_children, p[i-1])\n",
    "    try:\n",
    "        branch_set.add(possible_children.tolist().index(1)+1)\n",
    "    except:\n",
    "        pass\n",
    "    return branch_set, possible_children"
   ]
  },
  {
   "cell_type": "code",
   "execution_count": 80,
   "metadata": {},
   "outputs": [],
   "source": [
    "def make_tree(seed, p):\n",
    "    possible_children = np.repeat(1, p.shape[0])\n",
    "    branch_set = {seed}\n",
    "    while np.nansum(possible_children) > 0:\n",
    "        branch_set, possible_children = find_next(branch_set, p)\n",
    "    max_branch = len(branch_set)\n",
    "    return branch_set, max_branch"
   ]
  },
  {
   "cell_type": "code",
   "execution_count": 81,
   "metadata": {},
   "outputs": [],
   "source": [
    "def all_trees(bbl_set, p):\n",
    "    results = []\n",
    "    while len(bbl_set) > 0:\n",
    "        seed = bbl_set.pop()\n",
    "        branch_set, max_branch = make_tree(seed, p)\n",
    "        results.append({'lots':branch_set, 'number':max_branch})\n",
    "        bbl_set = bbl_set - branch_set\n",
    "    return results"
   ]
  },
  {
   "cell_type": "markdown",
   "metadata": {},
   "source": [
    "## Example calculations"
   ]
  },
  {
   "cell_type": "markdown",
   "metadata": {},
   "source": [
    "Below is an example of the input matrix. The 0 values represent lots too close to both have an establishment. The 1 values represent lots far enough away to both have an establishment. The diagonals are NULL."
   ]
  },
  {
   "cell_type": "code",
   "execution_count": 82,
   "metadata": {},
   "outputs": [
    {
     "name": "stdout",
     "output_type": "stream",
     "text": [
      "[[nan  0.  1.  1.]\n",
      " [ 0. nan  0.  1.]\n",
      " [ 1.  0. nan  1.]\n",
      " [ 1.  0.  1. nan]]\n"
     ]
    }
   ],
   "source": [
    "p = np.array([[np.nan,0,1,1],[0,np.nan,0,1],[1,0,np.nan,1],[1,0,1,np.nan]])\n",
    "bbl_set = {1,2,3,4}\n",
    "print(p)"
   ]
  },
  {
   "cell_type": "markdown",
   "metadata": {},
   "source": [
    "We will use the function all_trees to calculate all possible combinations of establishments."
   ]
  },
  {
   "cell_type": "code",
   "execution_count": 83,
   "metadata": {},
   "outputs": [
    {
     "name": "stdout",
     "output_type": "stream",
     "text": [
      "[{'lots': {1, 3, 4}, 'number': 3}, {'lots': {2, 4}, 'number': 2}]\n"
     ]
    }
   ],
   "source": [
    "results = all_trees(bbl_set, p)\n",
    "print(results)"
   ]
  },
  {
   "cell_type": "markdown",
   "metadata": {},
   "source": [
    "These results let us find the best and worst case senarios, respectively:"
   ]
  },
  {
   "cell_type": "code",
   "execution_count": 86,
   "metadata": {},
   "outputs": [
    {
     "name": "stdout",
     "output_type": "stream",
     "text": [
      "Best:  3 \n",
      "Worst:  2\n"
     ]
    }
   ],
   "source": [
    "best = max(item['number'] for item in results)\n",
    "worst = min(item['number'] for item in results)\n",
    "\n",
    "print(\"Best: \", best, \"\\nWorst: \", worst)"
   ]
  }
 ],
 "metadata": {
  "kernelspec": {
   "display_name": "Python 3",
   "language": "python",
   "name": "python3"
  },
  "language_info": {
   "codemirror_mode": {
    "name": "ipython",
    "version": 3
   },
   "file_extension": ".py",
   "mimetype": "text/x-python",
   "name": "python",
   "nbconvert_exporter": "python",
   "pygments_lexer": "ipython3",
   "version": "3.7.3"
  }
 },
 "nbformat": 4,
 "nbformat_minor": 4
}
